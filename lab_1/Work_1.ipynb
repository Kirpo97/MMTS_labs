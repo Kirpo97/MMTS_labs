{
 "cells": [
  {
   "attachments": {},
   "cell_type": "markdown",
   "metadata": {},
   "source": [
    "# Задание 1:"
   ]
  },
  {
   "attachments": {},
   "cell_type": "markdown",
   "metadata": {},
   "source": [
    "# Матричное представление"
   ]
  },
  {
   "cell_type": "code",
   "execution_count": 772,
   "metadata": {},
   "outputs": [],
   "source": [
    "matr_smeg_1 = [\n",
    "#     1   2   3   4   5   6   7   8   9  10   j/i      \n",
    "    ['0','0','0','1','1','0','0','0','0','0'],  # 1\n",
    "    ['1','0','1','0','0','0','0','0','0','0'],  # 2\n",
    "    ['1','0','0','0','0','0','0','0','0','0'],  # 3\n",
    "    ['0','0','1','0','0','0','1','0','0','0'],  # 4\n",
    "    ['0','0','0','0','0','1','0','0','0','0'],  # 5\n",
    "    ['0','0','0','0','0','0','1','0','0','0'],  # 6\n",
    "    ['0','0','0','0','0','0','0','0','1','0'],  # 7\n",
    "    ['0','0','0','0','0','1','0','0','0','0'],  # 8\n",
    "    ['0','0','0','0','0','0','0','1','0','1'],  # 9\n",
    "    ['0','0','0','0','0','0','0','0','0','0']  # 10\n",
    "]\n",
    "\n",
    "matr_ints_1 = [\n",
    "#     1    2    3    4    5    6    7    8    9   10   11   12   13   j/i             \n",
    "    ['1','-1','-1', '1', '0', '0', '0', '0', '0', '0', '0', '0', '0'],  # 1\n",
    "    ['0', '1', '0', '0', '1', '0', '0', '0', '0', '0', '0', '0', '0'],  # 2\n",
    "    ['0', '0', '1', '0','-1','-1', '0', '0', '0', '0', '0', '0', '0'],  # 3\n",
    "    ['0', '0', '0','-1', '0', '1', '1', '0', '0', '0', '0', '0', '0'],  # 4\n",
    "    ['-1','0', '0', '0', '0', '0', '0', '1', '0', '0', '0', '0', '0'],  # 5\n",
    "    ['0', '0', '0', '0', '0', '0', '0','-1', '1','-1', '0', '0', '0'],  # 6\n",
    "    ['0', '0', '0', '0', '0', '0','-1', '0','-1', '0', '1', '0', '0'],  # 7\n",
    "    ['0', '0', '0', '0', '0', '0', '0', '0', '0', '1', '0','-1', '0'],  # 8\n",
    "    ['0', '0', '0', '0', '0', '0', '0', '0', '0', '0','-1', '1', '1'],  # 9\n",
    "    ['0', '0', '0', '0', '0', '0', '0', '0', '0', '0', '0', '0','-1']   # 10\n",
    "]\n",
    "            "
   ]
  },
  {
   "attachments": {},
   "cell_type": "markdown",
   "metadata": {},
   "source": [
    "# Множественное представление"
   ]
  },
  {
   "cell_type": "code",
   "execution_count": 773,
   "metadata": {},
   "outputs": [
    {
     "name": "stdout",
     "output_type": "stream",
     "text": [
      "G() =  [{4, 5}, {1, 3}, {1}, {3, 7}, {6}, {7}, {9}, {6}, {8, 10}, set()]\n"
     ]
    }
   ],
   "source": [
    "#  Множественное представление G(i)\n",
    "M_smeg = [set(),set(),set(),set(),set(),set(),set(),set(),set(),set()]\n",
    "\n",
    "for i in range(10):\n",
    "    for j in range(10):\n",
    "        if matr_smeg_1[i][j] == '1':\n",
    "            M_smeg[i].add(j+1)\n",
    "print(\"G() = \",M_smeg) \n",
    "     \n",
    "# На выходе - R_lambda_1"
   ]
  },
  {
   "cell_type": "code",
   "execution_count": 774,
   "metadata": {},
   "outputs": [
    {
     "name": "stdout",
     "output_type": "stream",
     "text": [
      "Gm1() =  [{2, 3}, set(), {5, 6}, {4}, {1}, {8, 10}, {9, 7}, {12}, {11}, {13}]\n",
      "G() =  [{1, 4}, {2, 5}, {3}, {6, 7}, {8}, {9}, {11}, {10}, {12, 13}, set()]\n",
      "G^-1() =  [{2, 3}, set(), {2, 4}, {1}, {1}, {8, 5}, {4, 6}, {9}, {7}, {9}]\n"
     ]
    }
   ],
   "source": [
    "#  Множественное представление G^-1(i)\n",
    "M_ints_m1 = [set(),set(),set(),set(),set(),set(),set(),set(),set(),set()]\n",
    "M_ints_1 = [set(),set(),set(),set(),set(),set(),set(),set(),set(),set()]\n",
    "\n",
    "for i in range(10):\n",
    "    for j in range(13):\n",
    "        if matr_ints_1[i][j] == '-1':\n",
    "            M_ints_m1[i].add(j+1)\n",
    "        elif matr_ints_1[i][j] == '1':\n",
    "            M_ints_1[i].add(j+1)\n",
    "            \n",
    "#  Разбиваем множество на подпножества -1 и 1\n",
    "print(\"Gm1() = \", M_ints_m1)  \n",
    "print(\"G() = \", M_ints_1)  \n",
    "# set() - это пустое множество\n",
    "    \n",
    "# Находим пересечения подмножеств\n",
    "mnog_1 = [set(), set(), set(), set(), set(), set(), set(), set(), set(), set()]\n",
    "for k in range(10):  \n",
    "    for p in range(10):\n",
    "        if (M_ints_m1[k].intersection(M_ints_1[p])):\n",
    "            mnog_1[k].add(p+1) \n",
    "print(\"G^-1() = \",mnog_1)\n"
   ]
  },
  {
   "attachments": {},
   "cell_type": "markdown",
   "metadata": {},
   "source": [
    "# Топологическая декомпозиция системы"
   ]
  },
  {
   "cell_type": "code",
   "execution_count": 775,
   "metadata": {},
   "outputs": [
    {
     "name": "stdout",
     "output_type": "stream",
     "text": [
      "R_lambda( 1 ) =  [{4, 5}, {1, 3}, {1}, {3, 7}, {6}, {7}, {9}, {6}, {8, 10}, set()]\n",
      "R_lambda( 2 ) =  [{3, 6, 7}, {1, 4, 5}, {4, 5}, {1, 9}, {7}, {9}, {8, 10}, {7}, {6}, set()]\n",
      "R_lambda( 3 ) =  [{1, 9, 7}, {3, 4, 5, 6, 7}, {3, 6, 7}, {8, 10, 4, 5}, {9}, {8, 10}, {6}, {9}, {7}, set()]\n",
      "R_lambda( 4 ) =  [{4, 5, 8, 9, 10}, {1, 3, 6, 7, 9}, {1, 9, 7}, {3, 6, 7}, {8, 10}, {6}, {7}, {8, 10}, {9}, set()]\n",
      "R_lambda( 5 ) =  [{3, 6, 7, 8, 10}, {1, 4, 5, 7, 8, 9, 10}, {4, 5, 8, 9, 10}, {1, 9, 7}, {6}, {7}, {9}, {6}, {8, 10}, set()]\n",
      "\n",
      "R( 1 ) =  {1, 3, 4, 5, 6, 7, 8, 9, 10}\n",
      "R( 2 ) =  {1, 2, 3, 4, 5, 6, 7, 8, 9, 10}\n",
      "R( 3 ) =  {1, 3, 4, 5, 6, 7, 8, 9, 10}\n",
      "R( 4 ) =  {1, 3, 4, 5, 6, 7, 8, 9, 10}\n",
      "R( 5 ) =  {5, 6, 7, 8, 9, 10}\n",
      "R( 6 ) =  {6, 7, 8, 9, 10}\n",
      "R( 7 ) =  {6, 7, 8, 9, 10}\n",
      "R( 8 ) =  {6, 7, 8, 9, 10}\n",
      "R( 9 ) =  {6, 7, 8, 9, 10}\n",
      "R( 10 ) =  {10}\n"
     ]
    }
   ],
   "source": [
    "# Получение пути R(i) длинной lambda  \n",
    "\n",
    "# R_lambda_1 = [R1^1, R2^1, R3^1, R4^1, R5^1, R5^1, R6^1, R7^1, R8^1, R9^1, R10^1]\n",
    "# R_lambda_2 = [R1^2, R2^2, R3^2, R4^2, R5^2, R5^2, R6^2, R7^2, R8^2, R9^2, R10^2]\n",
    "# R_lambda_3 = [R1^3, R2^3, R3^3, R4^3, R5^3, R5^3, R6^3, R7^3, R8^3, R9^3, R10^3]\n",
    "# R_lambda_4 = [R1^4, R2^4, R3^4, R4^4, R5^4, R5^4, R6^4, R7^4, R8^4, R9^4, R10^4]\n",
    "# R_lambda_5 = [R1^5, R2^5, R3^5, R4^5, R5^5, R5^5, R6^5, R7^5, R8^5, R9^5, R10^5]\n",
    "\n",
    "R_lambda_1 = M_smeg\n",
    "R_lambda_2 = [set(),set(),set(),set(),set(),set(),set(),set(),set(),set()]\n",
    "R_lambda_3 = [set(),set(),set(),set(),set(),set(),set(),set(),set(),set()]\n",
    "R_lambda_4 = [set(),set(),set(),set(),set(),set(),set(),set(),set(),set()]\n",
    "R_lambda_5 = [set(),set(),set(),set(),set(),set(),set(),set(),set(),set()]\n",
    "\n",
    "R_lambda = [\n",
    "    R_lambda_1,\n",
    "    R_lambda_2,\n",
    "    R_lambda_3,\n",
    "    R_lambda_4,\n",
    "    R_lambda_5\n",
    "]\n",
    "\n",
    "def calc_lambda():\n",
    "    for R in range(5):    \n",
    "        for u in range(0,10):     \n",
    "            for l in range(0,10):       \n",
    "                if l in M_smeg[u]:\n",
    "                    R_lambda[R][u].update(R_lambda[R-1][l-1])\n",
    "        print(\"R_lambda(\",R+1,\") = \", R_lambda[R])\n",
    "    \n",
    "calc_lambda()\n",
    "print()\n",
    "\n",
    "# Находим R\n",
    "a = [{1},{2},{3},{4},{5},{6},{7},{8},{9},{10}]\n",
    "R = [set(), set(), set(), set(), set(), set(), set(), set(), set(), set()]\n",
    "\n",
    "def calc_R():\n",
    "    for t in range(10):            \n",
    "        R[t] = a[t] | R_lambda[0][t] | R_lambda[1][t] | R_lambda[2][t] | R_lambda[3][t] | R_lambda[4][t]\n",
    "        print(\"R(\",t+1,\") = \", R[t])\n",
    "     \n",
    "calc_R()"
   ]
  },
  {
   "cell_type": "code",
   "execution_count": 776,
   "metadata": {},
   "outputs": [
    {
     "name": "stdout",
     "output_type": "stream",
     "text": [
      "Q_lambda( 1 ) =  [{2, 3}, set(), {2, 4}, {1}, {1}, {8, 5}, {4, 6}, {9}, {7}, {9}]\n",
      "Q_lambda( 2 ) =  [{2, 4}, set(), {1}, {2, 3}, {2, 3}, {1, 9}, {8, 1, 5}, {7}, {4, 6}, {7}]\n",
      "Q_lambda( 3 ) =  [{1}, set(), {2, 3}, {2, 4}, {2, 4}, {2, 3, 7}, {1, 2, 3, 9}, {4, 6}, {8, 1, 5}, {4, 6}]\n",
      "Q_lambda( 4 ) =  [{2, 3}, set(), {2, 4}, {1}, {1}, {2, 4, 6}, {2, 3, 4, 7}, {8, 1, 5}, {1, 2, 3, 9}, {8, 1, 5}]\n",
      "Q_lambda( 5 ) =  [{2, 4}, set(), {1}, {2, 3}, {2, 3}, {8, 1, 5}, {1, 2, 4, 6}, {1, 2, 3, 9}, {2, 3, 4, 7}, {1, 2, 3, 9}]\n",
      "\n",
      "Q( 1 ) =  {1, 2, 3, 4}\n",
      "Q( 2 ) =  {2}\n",
      "Q( 3 ) =  {1, 2, 3, 4}\n",
      "Q( 4 ) =  {1, 2, 3, 4}\n",
      "Q( 5 ) =  {1, 2, 3, 4, 5}\n",
      "Q( 6 ) =  {1, 2, 3, 4, 5, 6, 7, 8, 9}\n",
      "Q( 7 ) =  {1, 2, 3, 4, 5, 6, 7, 8, 9}\n",
      "Q( 8 ) =  {1, 2, 3, 4, 5, 6, 7, 8, 9}\n",
      "Q( 9 ) =  {1, 2, 3, 4, 5, 6, 7, 8, 9}\n",
      "Q( 10 ) =  {1, 2, 3, 4, 5, 6, 7, 8, 9, 10}\n"
     ]
    }
   ],
   "source": [
    "#  Находим Q(i)\n",
    "\n",
    "Q_lambda_1 = mnog_1\n",
    "Q_lambda_2 = [set(),set(),set(),set(),set(),set(),set(),set(),set(),set()]\n",
    "Q_lambda_3 = [set(),set(),set(),set(),set(),set(),set(),set(),set(),set()]\n",
    "Q_lambda_4 = [set(),set(),set(),set(),set(),set(),set(),set(),set(),set()]\n",
    "Q_lambda_5 = [set(),set(),set(),set(),set(),set(),set(),set(),set(),set()]\n",
    "\n",
    "Q_lambda = [\n",
    "    Q_lambda_1,\n",
    "    Q_lambda_2,\n",
    "    Q_lambda_3,\n",
    "    Q_lambda_4,\n",
    "    Q_lambda_5\n",
    "]\n",
    "\n",
    "def calc_lambda():\n",
    "    for R in range(5):    \n",
    "        for u in range(0,10):     \n",
    "            for l in range(0,10):       \n",
    "                if l in mnog_1[u]:\n",
    "                    Q_lambda[R][u].update(Q_lambda[R-1][l-1])\n",
    "        print(\"Q_lambda(\",R+1,\") = \", Q_lambda[R])\n",
    "    \n",
    "calc_lambda()\n",
    "print()\n",
    "\n",
    "# Находим R\n",
    "a = [{1},{2},{3},{4},{5},{6},{7},{8},{9},{10}]\n",
    "Q = [set(), set(), set(), set(), set(), set(), set(), set(), set(), set()]\n",
    "\n",
    "def calc_R():\n",
    "    for t in range(10):            \n",
    "        Q[t] = a[t] | Q_lambda[0][t] | Q_lambda[1][t] | Q_lambda[2][t] | Q_lambda[3][t] | Q_lambda[4][t]\n",
    "        print(\"Q(\",t+1,\") = \", Q[t])\n",
    "     \n",
    "calc_R()\n"
   ]
  },
  {
   "cell_type": "code",
   "execution_count": 777,
   "metadata": {},
   "outputs": [
    {
     "name": "stdout",
     "output_type": "stream",
     "text": [
      "V 1  =  {1, 3, 4}\n",
      "V 2  =  {2}\n",
      "V 3  =  {1, 3, 4}\n",
      "V 4  =  {1, 3, 4}\n",
      "V 5  =  {5}\n",
      "V 6  =  {8, 9, 6, 7}\n",
      "V 7  =  {8, 9, 6, 7}\n",
      "V 8  =  {8, 9, 6, 7}\n",
      "V 9  =  {8, 9, 6, 7}\n",
      "V 10  =  {10}\n"
     ]
    }
   ],
   "source": [
    "# Нахождение сильно связного подграфа:\n",
    "\n",
    "V = [set(), set(), set(), set(), set(), set(), set(), set(), set(), set()]\n",
    "\n",
    "for i in range(10):\n",
    "    V[i] = R[i] & Q[i]\n",
    "    print(\"V\",i+1,\" = \", V[i])"
   ]
  },
  {
   "cell_type": "code",
   "execution_count": 778,
   "metadata": {},
   "outputs": [
    {
     "name": "stdout",
     "output_type": "stream",
     "text": [
      "V 1  =  {2}\n",
      "V 2  =  {1, 3, 4}\n",
      "V 3  =  {5}\n",
      "V 4  =  {8, 9, 6, 7}\n",
      "V 5  =  {10}\n"
     ]
    }
   ],
   "source": [
    "# отфильтруем результаты:\n",
    "o = 1\n",
    "for i in range(1,10):\n",
    "    if (V[i-1].isdisjoint(V[i])):\n",
    "        V[i-1].discard(i-1)\n",
    "        print(\"V\",o,\" = \", V[i])\n",
    "        o += 1"
   ]
  },
  {
   "attachments": {},
   "cell_type": "markdown",
   "metadata": {},
   "source": [
    "Результат: Исходный раф можно разделить на 5 подграфов"
   ]
  }
 ],
 "metadata": {
  "kernelspec": {
   "display_name": "Python 3",
   "language": "python",
   "name": "python3"
  },
  "language_info": {
   "codemirror_mode": {
    "name": "ipython",
    "version": 3
   },
   "file_extension": ".py",
   "mimetype": "text/x-python",
   "name": "python",
   "nbconvert_exporter": "python",
   "pygments_lexer": "ipython3",
   "version": "3.10.9 (tags/v3.10.9:1dd9be6, Dec  6 2022, 20:01:21) [MSC v.1934 64 bit (AMD64)]"
  },
  "orig_nbformat": 4,
  "vscode": {
   "interpreter": {
    "hash": "138cf1204aabdfc8b860e8a625878b12fa67eba917666c77637cf387ae4fded1"
   }
  }
 },
 "nbformat": 4,
 "nbformat_minor": 2
}
