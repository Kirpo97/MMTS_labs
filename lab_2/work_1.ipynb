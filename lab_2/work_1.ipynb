{
 "cells": [
  {
   "attachments": {},
   "cell_type": "markdown",
   "metadata": {},
   "source": [
    "# Задание 1"
   ]
  },
  {
   "cell_type": "code",
   "execution_count": 160,
   "metadata": {},
   "outputs": [
    {
     "name": "stdout",
     "output_type": "stream",
     "text": [
      "m_smeg^0:\n",
      " [1, 1, 1, 1, 1, 1, 1, 1] \n",
      "\n",
      "m_smeg^1:\n",
      " [[0 1 0 0 0 1 0 0]\n",
      " [0 0 0 0 1 1 0 0]\n",
      " [0 0 0 1 0 0 0 1]\n",
      " [0 0 0 0 0 0 1 0]\n",
      " [0 0 0 0 0 0 1 0]\n",
      " [0 0 1 1 0 0 0 0]\n",
      " [0 0 0 0 0 0 0 0]\n",
      " [0 0 0 0 0 0 0 0]]\n",
      "Q_j =  [0, 1, 1, 2, 1, 2, 2, 1]\n",
      "Q_i =  [2, 2, 2, 1, 1, 2, 0, 0]\n",
      "\n",
      "m_smeg^2:\n",
      " [[0 0 1 1 1 1 0 0]\n",
      " [0 0 1 1 0 0 1 0]\n",
      " [0 0 0 0 0 0 1 0]\n",
      " [0 0 0 0 0 0 0 0]\n",
      " [0 0 0 0 0 0 0 0]\n",
      " [0 0 0 1 0 0 1 1]\n",
      " [0 0 0 0 0 0 0 0]\n",
      " [0 0 0 0 0 0 0 0]]\n",
      "Q_j =  [0, 0, 2, 3, 1, 1, 3, 1]\n",
      "Q_i =  [4, 3, 1, 0, 0, 3, 0, 0]\n",
      "\n",
      "m_smeg^3:\n",
      " [[0 0 1 2 0 0 2 1]\n",
      " [0 0 0 1 0 0 1 1]\n",
      " [0 0 0 0 0 0 0 0]\n",
      " [0 0 0 0 0 0 0 0]\n",
      " [0 0 0 0 0 0 0 0]\n",
      " [0 0 0 0 0 0 1 0]\n",
      " [0 0 0 0 0 0 0 0]\n",
      " [0 0 0 0 0 0 0 0]]\n",
      "Q_j =  [0, 0, 1, 3, 0, 0, 4, 2]\n",
      "Q_i =  [6, 3, 0, 0, 0, 1, 0, 0]\n",
      "\n",
      "m_smeg^4:\n",
      " [[0 0 0 1 0 0 2 1]\n",
      " [0 0 0 0 0 0 1 0]\n",
      " [0 0 0 0 0 0 0 0]\n",
      " [0 0 0 0 0 0 0 0]\n",
      " [0 0 0 0 0 0 0 0]\n",
      " [0 0 0 0 0 0 0 0]\n",
      " [0 0 0 0 0 0 0 0]\n",
      " [0 0 0 0 0 0 0 0]]\n",
      "Q_j =  [0, 0, 0, 1, 0, 0, 3, 1]\n",
      "Q_i =  [4, 1, 0, 0, 0, 0, 0, 0]\n",
      "\n",
      "m_smeg^5:\n",
      " [[0 0 0 0 0 0 1 0]\n",
      " [0 0 0 0 0 0 0 0]\n",
      " [0 0 0 0 0 0 0 0]\n",
      " [0 0 0 0 0 0 0 0]\n",
      " [0 0 0 0 0 0 0 0]\n",
      " [0 0 0 0 0 0 0 0]\n",
      " [0 0 0 0 0 0 0 0]\n",
      " [0 0 0 0 0 0 0 0]]\n",
      "Q_j =  [0, 0, 0, 0, 0, 0, 1, 0]\n",
      "Q_i =  [1, 0, 0, 0, 0, 0, 0, 0]\n",
      "\n",
      "m_smeg^6:\n",
      " [[0 0 0 0 0 0 0 0]\n",
      " [0 0 0 0 0 0 0 0]\n",
      " [0 0 0 0 0 0 0 0]\n",
      " [0 0 0 0 0 0 0 0]\n",
      " [0 0 0 0 0 0 0 0]\n",
      " [0 0 0 0 0 0 0 0]\n",
      " [0 0 0 0 0 0 0 0]\n",
      " [0 0 0 0 0 0 0 0]]\n",
      "Q_j =  [0, 0, 0, 0, 0, 0, 0, 0]\n",
      "Q_i =  [0, 0, 0, 0, 0, 0, 0, 0]\n",
      "\n",
      "total:\n",
      " [[0 1 2 4 1 2 5 2]\n",
      " [0 0 1 2 1 1 3 1]\n",
      " [0 0 0 1 0 0 1 1]\n",
      " [0 0 0 0 0 0 1 0]\n",
      " [0 0 0 0 0 0 1 0]\n",
      " [0 0 1 2 0 0 2 1]\n",
      " [0 0 0 0 0 0 0 0]\n",
      " [0 0 0 0 0 0 0 0]]\n",
      "Q_j =  [0, 1, 4, 9, 2, 3, 13, 5]\n",
      "Q_i =  [17, 9, 3, 1, 1, 6, 0, 0]\n",
      "\n"
     ]
    }
   ],
   "source": [
    "import numpy as np\n",
    "# Матрица смежности\n",
    "m_smeg_1 = np.array([\n",
    "#    1  2  3  4  5  6  7  8  i/j\n",
    "    [0, 1, 0, 0, 0, 1, 0, 0],# 1\n",
    "    [0, 0, 0, 0, 1, 1, 0, 0],# 2\n",
    "    [0, 0, 0, 1, 0, 0, 0, 1],# 3\n",
    "    [0, 0, 0, 0, 0, 0, 1, 0],# 4\n",
    "    [0, 0, 0, 0, 0, 0, 1, 0],# 5\n",
    "    [0, 0, 1, 1, 0, 0, 0, 0],# 6\n",
    "    [0, 0, 0, 0, 0, 0, 0, 0],# 7\n",
    "    [0, 0, 0, 0, 0, 0, 0, 0] # 8\n",
    "])\n",
    "\n",
    "Q_i_0 = [1, 1, 1, 1, 1, 1, 1, 1]\n",
    "Q_j_1 = [0, 0, 0, 0, 0, 0, 0, 0]\n",
    "Q_j_2 = [0, 0, 0, 0, 0, 0, 0, 0]\n",
    "Q_j_3 = [0, 0, 0, 0, 0, 0, 0, 0]\n",
    "Q_j_4 = [0, 0, 0, 0, 0, 0, 0, 0]\n",
    "Q_j_5 = [0, 0, 0, 0, 0, 0, 0, 0]\n",
    "Q_j_6 = [0, 0, 0, 0, 0, 0, 0, 0] \n",
    "Q_j_t = [0, 0, 0, 0, 0, 0, 0, 0] \n",
    "\n",
    "Q_j_0 = [1, 1, 1, 1 ,1, 1, 1, 1]\n",
    "Q_i_1 = [0, 0, 0, 0, 0, 0, 0, 0]\n",
    "Q_i_2 = [0, 0, 0, 0, 0, 0, 0, 0]\n",
    "Q_i_3 = [0, 0, 0, 0, 0, 0, 0, 0]\n",
    "Q_i_4 = [0, 0, 0, 0, 0, 0, 0, 0]\n",
    "Q_i_5 = [0, 0, 0, 0, 0, 0, 0, 0]\n",
    "Q_i_6 = [0, 0, 0, 0, 0, 0, 0, 0]\n",
    "Q_i_t = [0, 0, 0, 0, 0, 0, 0, 0] \n",
    "\n",
    "Q_j = [Q_j_0, Q_j_1, Q_j_2, Q_j_3, Q_j_4, Q_j_5, Q_j_6, Q_i_t]   \n",
    "      \n",
    "def calc_Q(matr, Q_j, Q_i): \n",
    "    for j in range(8):\n",
    "        for i in range(8):\n",
    "            if matr[j][i] >= 1:\n",
    "                Q_i[j] += matr[j][i]\n",
    "                Q_j[i] += matr[j][i]\n",
    "    print(\"Q_j = \", Q_j)                       \n",
    "    print(\"Q_i = \", Q_i)\n",
    "    print()\n",
    "    \n",
    "print(\"m_smeg^0:\\n\", Q_j_0,'\\n')    \n",
    "    \n",
    "print(\"m_smeg^1:\\n\", m_smeg_1)    \n",
    "calc_Q(m_smeg_1, Q_j_1, Q_i_1) \n",
    "  \n",
    "m_smeg_2 = np.linalg.matrix_power(m_smeg_1, 2)\n",
    "print(\"m_smeg^2:\\n\", m_smeg_2) \n",
    "calc_Q(m_smeg_2, Q_j_2, Q_i_2)   \n",
    "\n",
    "m_smeg_3 = m_smeg_2.dot(m_smeg_1)\n",
    "print(\"m_smeg^3:\\n\", m_smeg_3) \n",
    "calc_Q(m_smeg_3, Q_j_3, Q_i_3) \n",
    "\n",
    "m_smeg_4 = m_smeg_3.dot(m_smeg_1)\n",
    "print(\"m_smeg^4:\\n\", m_smeg_4) \n",
    "calc_Q(m_smeg_4, Q_j_4, Q_i_4) \n",
    "\n",
    "m_smeg_5 = m_smeg_4.dot(m_smeg_1)\n",
    "print(\"m_smeg^5:\\n\", m_smeg_5) \n",
    "calc_Q(m_smeg_5, Q_j_5, Q_i_5) \n",
    "\n",
    "m_smeg_6 = m_smeg_5.dot(m_smeg_1)\n",
    "print(\"m_smeg^6:\\n\", m_smeg_6) \n",
    "calc_Q(m_smeg_6, Q_j_6, Q_i_6) \n",
    "\n",
    "total = m_smeg_1 + m_smeg_2 + m_smeg_3 + m_smeg_4 + m_smeg_5\n",
    "print(\"total:\\n\", total)\n",
    "calc_Q(total, Q_j_t, Q_i_t)\n",
    "\n"
   ]
  },
  {
   "attachments": {},
   "cell_type": "markdown",
   "metadata": {},
   "source": [
    " # Свойства\n",
    " # 1. Определение порядка элементов"
   ]
  },
  {
   "cell_type": "code",
   "execution_count": 161,
   "metadata": {},
   "outputs": [
    {
     "name": "stdout",
     "output_type": "stream",
     "text": [
      "Элементы 0 порядка \n",
      " [1, 2, 3, 4, 5, 6, 7, 8] \n",
      " [1, 0, 0, 0, 0, 0, 0, 0] \n",
      "\n",
      "Элементы 1 порядка \n",
      " [0, 2, 3, 4, 5, 6, 7, 8] \n",
      " [1, 2, 0, 0, 0, 0, 0, 0] \n",
      "\n",
      "Элементы 2 порядка \n",
      " [0, 0, 3, 4, 5, 6, 7, 8] \n",
      " [1, 2, 0, 0, 5, 6, 0, 0] \n",
      "\n",
      "Элементы 3 порядка \n",
      " [0, 0, 3, 4, 0, 0, 7, 8] \n",
      " [1, 2, 3, 0, 5, 6, 0, 0] \n",
      "\n",
      "Элементы 4 порядка \n",
      " [0, 0, 0, 4, 0, 0, 7, 8] \n",
      " [1, 2, 3, 4, 5, 6, 0, 8] \n",
      "\n",
      "Элементы 5 порядка \n",
      " [0, 0, 0, 0, 0, 0, 7, 0] \n",
      " [1, 2, 3, 4, 5, 6, 7, 8] \n",
      "\n",
      "узел:\t [1, 2, 3, 4, 5, 6, 7, 8]\n",
      "порядок: [0, 1, 3, 4, 2, 2, 5, 4]\n"
     ]
    }
   ],
   "source": [
    "\n",
    "p0 = 'Элементы 0 порядка'\n",
    "p1 = 'Элементы 1 порядка'\n",
    "p2 = 'Элементы 2 порядка'\n",
    "p3 = 'Элементы 3 порядка'\n",
    "p4 = 'Элементы 4 порядка'\n",
    "p5 = 'Элементы 5 порядка'\n",
    "p = [p0, p1 ,p2 ,p3 ,p4 ,p5]\n",
    "\n",
    "order_p1 = [\n",
    "# узел   1 2 3 4 5 6 7 8   \n",
    "        [0,0,0,0,0,0,0,0], # 0 порядок\n",
    "        [0,0,0,0,0,0,0,0], # 1 порядок\n",
    "        [0,0,0,0,0,0,0,0], # 2 порядок\n",
    "        [0,0,0,0,0,0,0,0], # 3 порядок\n",
    "        [0,0,0,0,0,0,0,0], # 4 порядок\n",
    "        [0,0,0,0,0,0,0,0]  # 5 порядок\n",
    "        ]\n",
    "\n",
    "order_p2 = [\n",
    "        [0,0,0,0,0,0,0,0],\n",
    "        [0,0,0,0,0,0,0,0],\n",
    "        [0,0,0,0,0,0,0,0],\n",
    "        [0,0,0,0,0,0,0,0],\n",
    "        [0,0,0,0,0,0,0,0],\n",
    "        [0,0,0,0,0,0,0,0]\n",
    "        ]\n",
    "\n",
    "res = [0,0,0,0,0,0,0,0]\n",
    "\n",
    "def order_J(param1, param2, o_p1, o_p2):\n",
    "    for i in range(8):\n",
    "        if param1[i] > 0:\n",
    "            o_p1[i] = i+1\n",
    "        if param2[i] == 0:\n",
    "            o_p2[i] = i+1\n",
    "\n",
    "for x in range(0,6):\n",
    "    order_J(Q_j[x], Q_j[x+1], order_p1[x], order_p2[x])\n",
    "    print(p[x],'\\n',order_p1[x],'\\n',order_p2[x],'\\n')\n",
    "    \n",
    "for v in range(6):      \n",
    "    for x in range(8):\n",
    "        if order_p1[v][x] == order_p2[v][x]:\n",
    "            res[x] = v\n",
    "print('узел:\\t',[1, 2, 3, 4, 5, 6, 7, 8])\n",
    "print('порядок:',res)\n"
   ]
  },
  {
   "attachments": {},
   "cell_type": "markdown",
   "metadata": {},
   "source": [
    "# 2. Опредедение тактности системы"
   ]
  },
  {
   "cell_type": "code",
   "execution_count": 162,
   "metadata": {},
   "outputs": [
    {
     "name": "stdout",
     "output_type": "stream",
     "text": [
      "Тактность =  5\n"
     ]
    }
   ],
   "source": [
    "print('Тактность = ', max(res))"
   ]
  },
  {
   "attachments": {},
   "cell_type": "markdown",
   "metadata": {},
   "source": [
    "# 3. Определение контуров"
   ]
  },
  {
   "cell_type": "code",
   "execution_count": 163,
   "metadata": {},
   "outputs": [
    {
     "name": "stdout",
     "output_type": "stream",
     "text": [
      "Контуры не найдены\n"
     ]
    }
   ],
   "source": [
    "\n",
    "def searsh_contour():\n",
    "    s = -1\n",
    "    flag_1 = False\n",
    "    for a in range(0,8): \n",
    "        s = s +1 \n",
    "        if total[s][a] > 0:\n",
    "            flag_1 = True\n",
    "            \n",
    "    if flag_1 == False:\n",
    "        print('Контуры не найдены')        \n",
    "    else:\n",
    "        print('Контур найден')    \n",
    "       \n",
    "searsh_contour()     "
   ]
  },
  {
   "attachments": {},
   "cell_type": "markdown",
   "metadata": {},
   "source": [
    "# 4. Определение входных элементов потока"
   ]
  },
  {
   "cell_type": "code",
   "execution_count": 164,
   "metadata": {},
   "outputs": [
    {
     "name": "stdout",
     "output_type": "stream",
     "text": [
      "Входной элемент: 1\n"
     ]
    }
   ],
   "source": [
    "for i in range(8):\n",
    "    if Q_j_1[i] == 0:\n",
    "        print('Входной элемент:',i+1 )"
   ]
  },
  {
   "attachments": {},
   "cell_type": "markdown",
   "metadata": {},
   "source": [
    "# 5. Определение выходных элементов потока"
   ]
  },
  {
   "cell_type": "code",
   "execution_count": 165,
   "metadata": {},
   "outputs": [
    {
     "name": "stdout",
     "output_type": "stream",
     "text": [
      "Выходной элемент: 7\n",
      "Выходной элемент: 8\n"
     ]
    }
   ],
   "source": [
    "for i in range(8):\n",
    "    if Q_i_1[i] == 0:\n",
    "        print('Выходной элемент:',i+1 )"
   ]
  },
  {
   "attachments": {},
   "cell_type": "markdown",
   "metadata": {},
   "source": [
    "# 6. Определение висящих вершин"
   ]
  },
  {
   "cell_type": "code",
   "execution_count": 166,
   "metadata": {},
   "outputs": [
    {
     "name": "stdout",
     "output_type": "stream",
     "text": [
      "Висящих вершин нет\n"
     ]
    }
   ],
   "source": [
    "def searsh_v():\n",
    "    flag = False\n",
    "    for i in range(8):\n",
    "        if Q_i_1[i] == 0:\n",
    "            if Q_j_1[i] == 0:\n",
    "                flag = True            \n",
    "    if flag == True:\n",
    "        print('Висящая вершина найдена')\n",
    "    else:\n",
    "        print('Висящих вершин нет')\n",
    "        \n",
    "searsh_v()"
   ]
  },
  {
   "attachments": {},
   "cell_type": "markdown",
   "metadata": {},
   "source": [
    "# 7. Определение числа путей длиной Lambda"
   ]
  },
  {
   "cell_type": "code",
   "execution_count": 167,
   "metadata": {},
   "outputs": [
    {
     "name": "stdout",
     "output_type": "stream",
     "text": [
      "10 элементов длиной 1 с 1 путём\n",
      "11 элементов длиной 2 с 1 путём\n",
      "6 элементов длиной 3 с 1 путём\n",
      "2 элементов длиной 3 с 2 путями\n",
      "3 элементов длиной 4 с 1 путём\n",
      "1 элементов длиной 4 с 2 путями\n",
      "1 элементов длиной 5 с 1 путём\n"
     ]
    }
   ],
   "source": [
    "def count_path(matr, str):\n",
    "    count = [0,0,0]\n",
    "    str2 = ['','','']\n",
    "    for k in range(8):\n",
    "        for i in range(8):\n",
    "            if matr[i][k] == 1:\n",
    "                count[0] += 1\n",
    "                str2[0] = 'с 1 путём'\n",
    "            elif matr[i][k] == 2:\n",
    "                count[1] += 1\n",
    "                str2[1] = 'с 2 путями'\n",
    "            elif matr[i][k] == 3:\n",
    "                count[2] += 1\n",
    "                str2[2] = 'с 3 путями'\n",
    "    for j in range(3):\n",
    "        if count[j] > 0:         \n",
    "            print(count[j], 'элементов', str, str2[j])\n",
    "            \n",
    "count_path(m_smeg_1, 'длиной 1')\n",
    "count_path(m_smeg_2, 'длиной 2')\n",
    "count_path(m_smeg_3, 'длиной 3')\n",
    "count_path(m_smeg_4, 'длиной 4')\n",
    "count_path(m_smeg_5, 'длиной 5')\n",
    "count_path(m_smeg_6, 'длиной 6')"
   ]
  },
  {
   "attachments": {},
   "cell_type": "markdown",
   "metadata": {},
   "source": [
    "# 8. Определение всевозможных путей между двумя элементами.\n"
   ]
  },
  {
   "cell_type": "code",
   "execution_count": 168,
   "metadata": {},
   "outputs": [
    {
     "name": "stdout",
     "output_type": "stream",
     "text": [
      "От узла 1 до узла 2 колличество путей = 1\n",
      "От узла 1 до узла 3 колличество путей = 2\n",
      "От узла 1 до узла 4 колличество путей = 4\n",
      "От узла 1 до узла 5 колличество путей = 1\n",
      "От узла 1 до узла 6 колличество путей = 2\n",
      "От узла 1 до узла 7 колличество путей = 5\n",
      "От узла 1 до узла 8 колличество путей = 2\n",
      "От узла 2 до узла 3 колличество путей = 1\n",
      "От узла 2 до узла 4 колличество путей = 2\n",
      "От узла 2 до узла 5 колличество путей = 1\n",
      "От узла 2 до узла 6 колличество путей = 1\n",
      "От узла 2 до узла 7 колличество путей = 3\n",
      "От узла 2 до узла 8 колличество путей = 1\n",
      "От узла 3 до узла 4 колличество путей = 1\n",
      "От узла 3 до узла 7 колличество путей = 1\n",
      "От узла 3 до узла 8 колличество путей = 1\n",
      "От узла 4 до узла 7 колличество путей = 1\n",
      "От узла 5 до узла 7 колличество путей = 1\n",
      "От узла 6 до узла 3 колличество путей = 1\n",
      "От узла 6 до узла 4 колличество путей = 2\n",
      "От узла 6 до узла 7 колличество путей = 2\n",
      "От узла 6 до узла 8 колличество путей = 1\n"
     ]
    }
   ],
   "source": [
    "for k in range(8):\n",
    "    for i in range(8):\n",
    "        if total[k][i] > 0:\n",
    "            print('От узла',k+1,'до узла',i+1,'колличество путей =', total[k][i])"
   ]
  },
  {
   "attachments": {},
   "cell_type": "markdown",
   "metadata": {},
   "source": [
    "# 9. Определение всех элементов, участвующих в формировании данного"
   ]
  },
  {
   "cell_type": "code",
   "execution_count": 344,
   "metadata": {},
   "outputs": [
    {
     "name": "stdout",
     "output_type": "stream",
     "text": [
      "Элементы формирующие узлел 1 : set()\n",
      "Элементы формирующие узлел 2 : {1}\n",
      "Элементы формирующие узлел 3 : {1, 2, 6}\n",
      "Элементы формирующие узлел 4 : {1, 2, 3, 6}\n",
      "Элементы формирующие узлел 5 : {1, 2}\n",
      "Элементы формирующие узлел 6 : {1, 2}\n",
      "Элементы формирующие узлел 7 : {1, 2, 3, 4, 5, 6}\n",
      "Элементы формирующие узлел 8 : {1, 2, 3, 6}\n"
     ]
    }
   ],
   "source": [
    "s1 = set()\n",
    "s2 = set()\n",
    "s3 = set()\n",
    "s4 = set()\n",
    "s5 = set()\n",
    "s6 = set()\n",
    "s7 = set()\n",
    "s8 = set()    \n",
    "s = [s1, s2, s3, s4, s5, s6, s7, s8]    \n",
    "\n",
    "for k in range(8):\n",
    "    for i in range(8):\n",
    "        if total[i][k] > 0:     \n",
    "            s[k].add(i+1)\n",
    "for i in range(8):\n",
    "    print('Элементы формирующие узлел',i+1,':',s[i])\n",
    "\n",
    "\n",
    "    "
   ]
  }
 ],
 "metadata": {
  "kernelspec": {
   "display_name": "Python 3",
   "language": "python",
   "name": "python3"
  },
  "language_info": {
   "codemirror_mode": {
    "name": "ipython",
    "version": 3
   },
   "file_extension": ".py",
   "mimetype": "text/x-python",
   "name": "python",
   "nbconvert_exporter": "python",
   "pygments_lexer": "ipython3",
   "version": "3.10.9"
  },
  "orig_nbformat": 4,
  "vscode": {
   "interpreter": {
    "hash": "138cf1204aabdfc8b860e8a625878b12fa67eba917666c77637cf387ae4fded1"
   }
  }
 },
 "nbformat": 4,
 "nbformat_minor": 2
}
